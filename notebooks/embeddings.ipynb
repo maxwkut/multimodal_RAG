{
 "cells": [
  {
   "cell_type": "code",
   "execution_count": 2,
   "metadata": {},
   "outputs": [
    {
     "name": "stderr",
     "output_type": "stream",
     "text": [
      "/Users/maxkut/Documents/projects/multimodal_rag/.venv/lib/python3.12/site-packages/tqdm/auto.py:21: TqdmWarning: IProgress not found. Please update jupyter and ipywidgets. See https://ipywidgets.readthedocs.io/en/stable/user_install.html\n",
      "  from .autonotebook import tqdm as notebook_tqdm\n"
     ]
    }
   ],
   "source": [
    "import torch\n",
    "from PIL import Image\n",
    "from transformers import CLIPModel, CLIPProcessor\n",
    "\n",
    "clip_model = CLIPModel.from_pretrained(\"openai/clip-vit-base-patch32\")\n",
    "clip_processor = CLIPProcessor.from_pretrained(\"openai/clip-vit-base-patch32\")"
   ]
  },
  {
   "cell_type": "code",
   "execution_count": 3,
   "metadata": {},
   "outputs": [],
   "source": [
    "def get_text_embedding(text: str):\n",
    "    inputs = clip_processor(text=[text], return_tensors=\"pt\", padding=True)\n",
    "    text_embeddings = clip_model.get_text_features(**inputs)\n",
    "    return text_embeddings"
   ]
  },
  {
   "cell_type": "code",
   "execution_count": 19,
   "metadata": {},
   "outputs": [],
   "source": [
    "def get_image_embedding(image_path: str):\n",
    "    image = Image.open(image_path)\n",
    "    inputs = clip_processor(images=image, return_tensors=\"pt\")\n",
    "    image_embeddings = clip_model.get_image_features(**inputs)\n",
    "    return image_embeddings"
   ]
  },
  {
   "cell_type": "code",
   "execution_count": 20,
   "metadata": {},
   "outputs": [],
   "source": [
    "def get_joint_embedding(image_path: str, text: str):\n",
    "    # Preprocessing\n",
    "    image = Image.open(image_path)\n",
    "    image_inputs = clip_processor(images=image, return_tensors=\"pt\")\n",
    "    text_inputs = clip_processor(text=[text], return_tensors=\"pt\", padding=True)\n",
    "\n",
    "    # Generate embeddings\n",
    "    with torch.no_grad():\n",
    "        image_embedding = clip_model.get_image_features(**image_inputs)\n",
    "        text_embedding = clip_model.get_text_features(**text_inputs)\n",
    "    joint_embedding = (image_embedding + text_embedding) / 2\n",
    "\n",
    "    return joint_embedding"
   ]
  },
  {
   "cell_type": "code",
   "execution_count": 24,
   "metadata": {},
   "outputs": [
    {
     "data": {
      "text/plain": [
       "tensor([[-6.2834e-02,  1.0380e-01,  9.6675e-02,  3.0001e-02, -2.9249e-01,\n",
       "          7.1380e-02, -6.1374e-02, -4.2095e-01,  2.8316e-01,  2.0372e-01,\n",
       "         -7.6836e-02, -2.6146e-01,  2.4978e-01, -2.1236e-01,  4.1645e-01,\n",
       "          1.3331e-01,  3.1808e-01, -3.2554e-02, -3.4612e-01, -1.6126e-01,\n",
       "          3.0429e-01, -2.3719e-01,  2.1889e-01, -3.8791e-01, -3.4716e-01,\n",
       "          7.9866e-02, -1.8136e-01, -1.0697e-01, -1.3817e-01, -1.0560e-01,\n",
       "         -1.8034e-01, -1.9573e-01, -2.0430e-01,  1.5146e-01, -1.8781e-01,\n",
       "         -1.5047e-02, -1.4425e-01,  5.4641e-01,  1.1652e-01,  6.1591e-01,\n",
       "          3.2179e-01, -2.2858e-01, -4.2895e-02, -1.9234e-01,  1.2435e-01,\n",
       "          3.8528e-02,  1.7254e-01, -2.4025e-02, -9.7716e-02,  3.0564e-01,\n",
       "          2.6720e-01,  5.9142e-02,  5.0896e-01, -3.4095e-01, -3.4978e-01,\n",
       "          1.4924e-01,  3.8415e-01,  4.2192e-02, -6.1538e-02, -2.7015e-01,\n",
       "         -1.5351e-01, -1.0578e-01, -2.4631e-01,  1.6987e-01, -2.9511e-01,\n",
       "          1.1361e-01,  1.3852e-01,  7.2083e-01, -1.5049e-01,  8.8922e-02,\n",
       "          1.7378e-01,  3.4285e-02,  2.6223e-01,  2.7256e-01, -5.7029e-02,\n",
       "         -1.6908e-01,  2.4216e-01,  3.4444e-01,  4.1025e-02,  1.1891e-01,\n",
       "         -5.4425e-03,  8.8039e-04, -1.3984e-01,  9.0272e-02,  3.5572e-02,\n",
       "         -3.5584e-02, -3.2380e-01, -4.6431e-01,  2.4096e-01, -2.7676e-01,\n",
       "          3.6615e-02, -3.5834e-02, -3.9192e+00,  4.0523e-01,  4.9277e-01,\n",
       "          1.9775e-01,  2.1915e-02, -2.3165e-01, -1.7617e-01, -1.3690e-01,\n",
       "          3.7950e-01,  4.9632e-02,  1.3879e-01,  2.0165e-01, -3.7153e-01,\n",
       "         -8.2485e-02, -7.6005e-01, -4.2717e-03,  1.4201e-01, -3.9184e-01,\n",
       "          7.4267e-02, -1.9906e-01,  4.1200e-02,  2.2432e-01, -1.4825e-01,\n",
       "         -1.0426e-01, -1.5773e-01,  3.6017e-03,  3.7133e-01, -9.9703e-02,\n",
       "         -2.7833e-01, -5.6717e-01, -3.5647e-02, -1.5131e-01, -5.0154e-02,\n",
       "         -2.4241e-01,  2.9169e-01, -1.8847e-01,  1.3104e-01,  8.9206e-02,\n",
       "          1.5746e-01, -8.9857e-02,  1.0375e-01,  3.5009e+00,  2.4888e-02,\n",
       "         -1.6863e-01,  1.0424e-01, -1.2946e-01, -2.4542e-01, -3.9518e-02,\n",
       "         -1.9453e-01,  1.5770e-01, -1.0948e-01,  1.6001e-01, -2.2082e-01,\n",
       "         -2.1706e-01,  5.3863e-02,  2.8446e-02, -8.9840e-02, -1.5551e-01,\n",
       "          1.6316e-01, -9.9882e-04, -3.9892e-02,  3.7779e-01, -2.2272e-01,\n",
       "         -2.6919e-01,  2.7641e-01, -5.9226e-02, -1.1596e-01,  1.1071e-01,\n",
       "         -2.8211e-01, -3.6362e-01,  6.7217e-02, -1.0988e-01, -1.5320e-02,\n",
       "         -2.4593e-01,  4.0450e-01,  1.3870e-01,  4.8111e-02,  1.2669e-02,\n",
       "          7.8300e-03, -1.4869e-02,  1.6811e-01,  9.7099e-02, -1.0945e-01,\n",
       "         -5.7186e-02, -1.6017e-01,  1.0070e-01,  1.5742e-01,  2.2117e-02,\n",
       "          9.2749e-03, -3.7896e-02, -2.3575e-01, -1.7851e-01, -1.0673e-01,\n",
       "          2.4404e-01,  9.0396e-03, -1.3772e-01, -3.7408e-01, -1.5947e-01,\n",
       "          3.5508e-02,  1.4671e-01, -1.6329e-01, -3.1700e-02, -1.0518e+00,\n",
       "          2.3714e-02,  9.5687e-02, -1.9225e-01, -1.4593e-01, -1.3134e-01,\n",
       "         -1.1284e-01, -5.5506e-02,  2.1526e-01,  1.9622e-01, -1.7306e-01,\n",
       "          1.1808e-01, -4.8136e-02, -3.8665e-01, -3.3427e-01, -2.0534e-02,\n",
       "         -3.3136e-02, -4.6586e-01,  1.1899e-01,  1.3652e-01,  2.6550e-01,\n",
       "         -1.1481e-03,  3.4741e-02, -2.5004e-03, -1.7504e-01, -2.1098e-01,\n",
       "          3.8329e-02,  2.5718e-02,  3.6943e-02, -2.2617e-01, -1.6092e-01,\n",
       "         -4.2856e-01, -2.0077e-01, -1.8506e-01, -1.8973e-01, -2.9761e-01,\n",
       "         -3.4271e-02, -1.3309e-01,  2.7865e-01,  2.4838e-01,  8.4249e-02,\n",
       "         -3.6249e-01, -3.3041e-01, -2.4578e-01, -5.1476e-02,  1.6634e-02,\n",
       "          6.1439e-02,  3.5920e-01, -7.9098e-02, -4.7421e-01, -1.4033e-02,\n",
       "         -5.7668e-01, -6.1380e-02, -2.8400e-02,  1.5706e-02, -1.3822e-01,\n",
       "          5.4898e-03,  2.9887e-01, -1.8728e-01,  1.5268e-01, -3.9787e-01,\n",
       "          3.8700e-02,  5.8972e-02,  1.9729e-01,  7.5468e-01,  9.9030e-02,\n",
       "         -7.3107e-02,  8.7549e-02,  7.3137e-02, -3.6385e-02,  2.1875e-02,\n",
       "          1.3883e-01,  4.7792e-02,  9.0010e-02, -2.8977e-02,  1.3763e-01,\n",
       "         -2.0949e-01,  2.3101e-02,  1.1198e-01,  2.7796e-01,  3.1594e-01,\n",
       "         -7.1473e-02,  4.1235e-02,  1.7262e-01, -2.6145e-01,  1.1592e-01,\n",
       "          1.8420e-01,  4.0602e-04, -3.6842e-01,  1.4834e-02,  1.5359e-01,\n",
       "         -7.1901e-02, -5.1576e-01,  4.9641e-01,  5.5419e-03, -3.8916e-01,\n",
       "          1.9969e-01, -1.3226e-01, -1.7368e-02,  1.4028e-01, -1.2615e-01,\n",
       "          7.1385e-03,  1.3334e-01, -7.6960e-02,  3.0983e-02,  7.2715e-02,\n",
       "         -1.6071e-01, -1.2902e-01,  1.7716e-02, -1.4731e-01,  8.2359e-02,\n",
       "         -3.6266e-01, -3.9097e-01,  2.1787e-01,  1.0671e-01, -2.3532e-01,\n",
       "          9.2018e-02,  4.0416e-01,  3.4989e+00, -1.1121e-02,  1.3840e-01,\n",
       "          2.9372e-01, -3.2484e-02, -9.6799e-02,  7.1327e-02, -3.4850e-01,\n",
       "          2.1316e-01,  5.3052e-01, -9.7782e-03, -9.4156e-02,  1.6294e-01,\n",
       "          5.6118e-02,  2.4432e-01, -3.3385e-01,  6.0210e-02, -8.2261e-01,\n",
       "          2.7252e-03,  4.4765e-02,  7.3159e-03, -3.5667e-02,  9.8867e-02,\n",
       "          1.5665e-01, -7.5547e-02,  1.5286e-01,  3.1743e-01,  5.6407e-02,\n",
       "          3.2020e-02, -4.5773e-01, -4.7059e-02, -2.0775e-01,  1.9489e-01,\n",
       "         -1.0990e-01, -6.8216e-02,  1.2608e-01,  1.2690e-01,  1.2460e-01,\n",
       "         -5.1651e-01,  1.8728e-01,  2.0243e-01,  1.6000e-01,  3.7132e-02,\n",
       "          1.0453e-01, -3.7306e-01,  4.7697e-01,  4.6582e-02,  1.0511e-01,\n",
       "         -6.5129e-02,  2.8473e-01, -1.0684e-01, -1.7829e-01,  3.6065e-01,\n",
       "         -9.7805e-02,  1.4764e-01, -1.9318e-01, -3.1525e-01,  4.4925e-01,\n",
       "         -1.7386e-01, -2.5241e-01,  8.7011e-03, -1.5952e-01, -1.6560e-01,\n",
       "         -1.3626e-01,  7.7095e-01,  1.4650e-01,  5.4420e-01,  1.3815e-01,\n",
       "         -9.0132e-02,  5.0008e-02,  1.3136e-01, -3.5298e-01,  1.0359e-01,\n",
       "          4.5897e-01,  3.3478e-01, -1.2451e-01, -4.6139e-01,  3.7538e-01,\n",
       "         -4.7273e-01,  3.8018e-01,  5.7594e-02, -1.3862e-01, -2.6981e-01,\n",
       "          3.4683e-01,  3.3027e-02,  8.1629e-02, -2.9245e-01,  4.9309e-02,\n",
       "          9.7758e-02, -1.3975e-02,  3.1490e-01,  1.6796e-01, -2.1383e-01,\n",
       "          1.2110e-01, -1.6489e-02,  3.0671e-01,  6.4270e-01, -2.8535e-01,\n",
       "         -1.9879e-01,  7.5286e-02,  3.1297e-02,  1.0578e-01,  6.0158e-02,\n",
       "         -3.7081e-01, -2.3569e-01, -3.8871e-01,  3.3583e-01, -1.1299e-01,\n",
       "         -4.7241e-01, -2.7958e-01, -1.2089e-01, -2.6055e-02, -2.5568e-01,\n",
       "          8.0755e-03,  6.3451e-02,  7.9718e-02, -1.2492e-01,  7.6954e-02,\n",
       "         -4.2343e-01,  1.0369e-01, -2.7936e-02, -9.7741e-03,  1.5381e-01,\n",
       "         -1.6474e-01, -7.1165e-01,  5.2810e-01, -2.1618e-01,  7.4468e-02,\n",
       "          2.7951e-02,  8.3026e-02,  2.6717e-01, -2.0169e-01, -7.1797e-02,\n",
       "          7.4947e-02, -2.7427e-01, -4.2651e-01,  2.4510e-01, -3.4532e-01,\n",
       "         -4.1565e-01, -2.8070e-01,  3.1680e-01, -7.7346e-01, -1.1980e-01,\n",
       "         -2.5543e-02,  3.3867e-02,  1.1907e-01,  1.8614e-02, -8.8729e-02,\n",
       "         -1.0948e-01,  3.1409e-01, -1.4549e-01,  4.2017e-02,  1.8809e-01,\n",
       "         -8.8424e-02,  3.7208e-01, -1.4586e-01, -6.4414e-02,  6.0430e-02,\n",
       "          1.5776e-02, -1.7944e-01,  1.8907e-01,  4.0795e-02, -1.1725e-01,\n",
       "          3.4517e-02, -2.5208e-01,  2.3563e-01,  1.7854e-01,  4.5280e-01,\n",
       "          1.8697e-01, -4.4697e-01, -1.2494e-01, -5.0966e-02,  6.5033e-02,\n",
       "         -7.7839e-02, -4.0123e-02, -1.6012e-01,  2.4451e-01, -2.8365e-02,\n",
       "         -1.1503e-01,  1.5279e-01,  6.1803e-02,  1.5954e-01, -2.0716e-01,\n",
       "         -1.4920e-01,  4.4161e-01, -7.5969e-02, -1.9131e-01, -2.3068e-01,\n",
       "         -4.6024e-01, -2.7851e-01,  3.9008e-02,  2.2350e-01, -1.7451e-01,\n",
       "         -1.0771e-01, -2.7105e-01, -3.2394e-01, -2.0137e-01,  3.3289e-01,\n",
       "         -1.5495e-02,  1.1713e-01]])"
      ]
     },
     "execution_count": 24,
     "metadata": {},
     "output_type": "execute_result"
    }
   ],
   "source": [
    "# Verify length to be 2 x 512\n",
    "get_joint_embedding(\"../data/images/motorcycle_1.jpg\", \"a bike\")"
   ]
  },
  {
   "cell_type": "code",
   "execution_count": 7,
   "metadata": {},
   "outputs": [],
   "source": [
    "# Examples\n",
    "ex1 = get_joint_embedding(\"../data/images/motorcycle_1.jpg\", \"a bike outside\")[0]\n",
    "ex2 = get_joint_embedding(\"../data/images/motorcycle_2.jpg\", \"a bike outside\")[0]\n",
    "ex3 = get_joint_embedding(\"../data/images/cat_2.jpeg\", \"a bike outside\")[0]"
   ]
  },
  {
   "cell_type": "markdown",
   "metadata": {},
   "source": [
    "# Cosine Similarity"
   ]
  },
  {
   "cell_type": "markdown",
   "metadata": {},
   "source": []
  },
  {
   "cell_type": "code",
   "execution_count": 101,
   "metadata": {},
   "outputs": [],
   "source": [
    "import numpy as np\n",
    "\n",
    "\n",
    "def cosine_similarity(vec1, vec2):\n",
    "    similarity = np.dot(vec1, vec2) / (np.linalg.norm(vec1) * np.linalg.norm(vec2))\n",
    "    return similarity"
   ]
  },
  {
   "cell_type": "code",
   "execution_count": 102,
   "metadata": {},
   "outputs": [
    {
     "name": "stderr",
     "output_type": "stream",
     "text": [
      "/var/folders/zq/01yz_srd79b766fdct7w3n600000gn/T/ipykernel_99652/427931492.py:1: DeprecationWarning: __array__ implementation doesn't accept a copy keyword, so passing copy=False failed. __array__ must implement 'dtype' and 'copy' keyword arguments. To learn more, see the migration guide https://numpy.org/devdocs/numpy_2_0_migration_guide.html#adapting-to-changes-in-the-copy-keyword\n",
      "  ex1_embed = np.array(ex1)\n",
      "/var/folders/zq/01yz_srd79b766fdct7w3n600000gn/T/ipykernel_99652/427931492.py:2: DeprecationWarning: __array__ implementation doesn't accept a copy keyword, so passing copy=False failed. __array__ must implement 'dtype' and 'copy' keyword arguments. To learn more, see the migration guide https://numpy.org/devdocs/numpy_2_0_migration_guide.html#adapting-to-changes-in-the-copy-keyword\n",
      "  ex2_embed = np.array(ex2)\n",
      "/var/folders/zq/01yz_srd79b766fdct7w3n600000gn/T/ipykernel_99652/427931492.py:3: DeprecationWarning: __array__ implementation doesn't accept a copy keyword, so passing copy=False failed. __array__ must implement 'dtype' and 'copy' keyword arguments. To learn more, see the migration guide https://numpy.org/devdocs/numpy_2_0_migration_guide.html#adapting-to-changes-in-the-copy-keyword\n",
      "  ex3_embed = np.array(ex3)\n"
     ]
    }
   ],
   "source": [
    "ex1_embed = np.array(ex1)\n",
    "ex2_embed = np.array(ex2)\n",
    "ex3_embed = np.array(ex3)\n",
    "sim_ex1_ex2 = cosine_similarity(ex1_embed, ex2_embed)\n",
    "sim_ex1_ex3 = cosine_similarity(ex1_embed, ex3_embed)"
   ]
  },
  {
   "cell_type": "code",
   "execution_count": 103,
   "metadata": {},
   "outputs": [
    {
     "name": "stdout",
     "output_type": "stream",
     "text": [
      "Cosine similarity between ex1_embeded and ex2_embeded is:\n"
     ]
    },
    {
     "data": {
      "text/plain": [
       "np.float32(0.8063979)"
      ]
     },
     "metadata": {},
     "output_type": "display_data"
    },
    {
     "name": "stdout",
     "output_type": "stream",
     "text": [
      "Cosine similarity between ex1_embeded and ex3_embeded is:\n"
     ]
    },
    {
     "data": {
      "text/plain": [
       "np.float32(0.7158405)"
      ]
     },
     "metadata": {},
     "output_type": "display_data"
    }
   ],
   "source": [
    "print(\"Cosine similarity between ex1_embeded and ex2_embeded is:\")\n",
    "display(sim_ex1_ex2)\n",
    "print(\"Cosine similarity between ex1_embeded and ex3_embeded is:\")\n",
    "display(sim_ex1_ex3)"
   ]
  },
  {
   "cell_type": "code",
   "execution_count": null,
   "metadata": {},
   "outputs": [],
   "source": []
  },
  {
   "cell_type": "code",
   "execution_count": null,
   "metadata": {},
   "outputs": [],
   "source": []
  }
 ],
 "metadata": {
  "kernelspec": {
   "display_name": ".venv",
   "language": "python",
   "name": "python3"
  },
  "language_info": {
   "codemirror_mode": {
    "name": "ipython",
    "version": 3
   },
   "file_extension": ".py",
   "mimetype": "text/x-python",
   "name": "python",
   "nbconvert_exporter": "python",
   "pygments_lexer": "ipython3",
   "version": "3.12.4"
  }
 },
 "nbformat": 4,
 "nbformat_minor": 2
}
