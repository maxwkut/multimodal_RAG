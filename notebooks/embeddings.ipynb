{
 "cells": [
  {
   "cell_type": "code",
   "execution_count": 57,
   "metadata": {},
   "outputs": [],
   "source": [
    "from transformers import CLIPProcessor, CLIPModel\n",
    "from PIL import Image\n",
    "import torch\n",
    "\n",
    "clip_model = CLIPModel.from_pretrained(\"openai/clip-vit-base-patch32\")\n",
    "clip_processor = CLIPProcessor.from_pretrained(\"openai/clip-vit-base-patch32\")"
   ]
  },
  {
   "cell_type": "code",
   "execution_count": 7,
   "metadata": {},
   "outputs": [],
   "source": [
    "def get_text_embedding(text: str):\n",
    "    inputs = clip_processor(text=[text], return_tensors=\"pt\", padding=True)\n",
    "    text_embeddings = clip_model.get_text_features(**inputs)\n",
    "    return text_embeddings"
   ]
  },
  {
   "cell_type": "code",
   "execution_count": 37,
   "metadata": {},
   "outputs": [],
   "source": [
    "def get_image_embedding(image_path: str):\n",
    "    image = Image.open(image_path)\n",
    "    inputs = clip_processor(images=image, return_tensors=\"pt\")\n",
    "    image_embeddings = clip_model.get_image_features(**inputs)\n",
    "    return image_embeddings\n"
   ]
  },
  {
   "cell_type": "code",
   "execution_count": 79,
   "metadata": {},
   "outputs": [],
   "source": [
    "def get_joint_embedding(image_path: str, text: str):\n",
    "    # Preprocessing\n",
    "    image = Image.open(image_path)\n",
    "    image_inputs = clip_processor(images=image, return_tensors=\"pt\")\n",
    "    text_inputs = clip_processor(text=[text], return_tensors=\"pt\", padding=True)\n",
    "\n",
    "    # Generate embeddings\n",
    "    with torch.no_grad():\n",
    "        image_embedding = clip_model.get_image_features(**image_inputs)\n",
    "        text_embedding = clip_model.get_text_features(**text_inputs)\n",
    "    joint_embedding = torch.cat([image_embedding, text_embedding], dim=-1)\n",
    "\n",
    "    return joint_embedding"
   ]
  },
  {
   "cell_type": "code",
   "execution_count": 80,
   "metadata": {},
   "outputs": [
    {
     "data": {
      "text/plain": [
       "1024"
      ]
     },
     "execution_count": 80,
     "metadata": {},
     "output_type": "execute_result"
    }
   ],
   "source": [
    "# Verify length to be 2 x 512\n",
    "len(get_joint_embedding(\"../data/motorcycle_1.jpg\", \"a bike\")[0])"
   ]
  },
  {
   "cell_type": "code",
   "execution_count": 100,
   "metadata": {},
   "outputs": [],
   "source": [
    "# Examples\n",
    "ex1 = get_joint_embedding(\"../data/motorcycle_1.jpg\", \"a bike outside\")[0]\n",
    "ex2 = get_joint_embedding(\"../data/motorcycle_2.jpg\", \"a bike outside\")[0]\n",
    "ex3 = get_joint_embedding(\"../data/cat_2.jpeg\", \"a bike outside\")[0]"
   ]
  },
  {
   "cell_type": "markdown",
   "metadata": {},
   "source": [
    "# Cosine Similarity"
   ]
  },
  {
   "cell_type": "markdown",
   "metadata": {},
   "source": []
  },
  {
   "cell_type": "code",
   "execution_count": 101,
   "metadata": {},
   "outputs": [],
   "source": [
    "import numpy as np\n",
    "\n",
    "def cosine_similarity(vec1, vec2):\n",
    "    similarity = np.dot(vec1,vec2)/(np.linalg.norm(vec1)*np.linalg.norm(vec2))\n",
    "    return similarity"
   ]
  },
  {
   "cell_type": "code",
   "execution_count": 102,
   "metadata": {},
   "outputs": [
    {
     "name": "stderr",
     "output_type": "stream",
     "text": [
      "/var/folders/zq/01yz_srd79b766fdct7w3n600000gn/T/ipykernel_99652/427931492.py:1: DeprecationWarning: __array__ implementation doesn't accept a copy keyword, so passing copy=False failed. __array__ must implement 'dtype' and 'copy' keyword arguments. To learn more, see the migration guide https://numpy.org/devdocs/numpy_2_0_migration_guide.html#adapting-to-changes-in-the-copy-keyword\n",
      "  ex1_embed = np.array(ex1)\n",
      "/var/folders/zq/01yz_srd79b766fdct7w3n600000gn/T/ipykernel_99652/427931492.py:2: DeprecationWarning: __array__ implementation doesn't accept a copy keyword, so passing copy=False failed. __array__ must implement 'dtype' and 'copy' keyword arguments. To learn more, see the migration guide https://numpy.org/devdocs/numpy_2_0_migration_guide.html#adapting-to-changes-in-the-copy-keyword\n",
      "  ex2_embed = np.array(ex2)\n",
      "/var/folders/zq/01yz_srd79b766fdct7w3n600000gn/T/ipykernel_99652/427931492.py:3: DeprecationWarning: __array__ implementation doesn't accept a copy keyword, so passing copy=False failed. __array__ must implement 'dtype' and 'copy' keyword arguments. To learn more, see the migration guide https://numpy.org/devdocs/numpy_2_0_migration_guide.html#adapting-to-changes-in-the-copy-keyword\n",
      "  ex3_embed = np.array(ex3)\n"
     ]
    }
   ],
   "source": [
    "ex1_embed = np.array(ex1)\n",
    "ex2_embed = np.array(ex2)\n",
    "ex3_embed = np.array(ex3)\n",
    "sim_ex1_ex2 = cosine_similarity(ex1_embed, ex2_embed)\n",
    "sim_ex1_ex3 = cosine_similarity(ex1_embed, ex3_embed)"
   ]
  },
  {
   "cell_type": "code",
   "execution_count": 103,
   "metadata": {},
   "outputs": [
    {
     "name": "stdout",
     "output_type": "stream",
     "text": [
      "Cosine similarity between ex1_embeded and ex2_embeded is:\n"
     ]
    },
    {
     "data": {
      "text/plain": [
       "np.float32(0.8063979)"
      ]
     },
     "metadata": {},
     "output_type": "display_data"
    },
    {
     "name": "stdout",
     "output_type": "stream",
     "text": [
      "Cosine similarity between ex1_embeded and ex3_embeded is:\n"
     ]
    },
    {
     "data": {
      "text/plain": [
       "np.float32(0.7158405)"
      ]
     },
     "metadata": {},
     "output_type": "display_data"
    }
   ],
   "source": [
    "print(\"Cosine similarity between ex1_embeded and ex2_embeded is:\")\n",
    "display(sim_ex1_ex2)\n",
    "print(\"Cosine similarity between ex1_embeded and ex3_embeded is:\")\n",
    "display(sim_ex1_ex3)"
   ]
  },
  {
   "cell_type": "code",
   "execution_count": null,
   "metadata": {},
   "outputs": [],
   "source": []
  },
  {
   "cell_type": "code",
   "execution_count": null,
   "metadata": {},
   "outputs": [],
   "source": []
  }
 ],
 "metadata": {
  "kernelspec": {
   "display_name": ".venv",
   "language": "python",
   "name": "python3"
  },
  "language_info": {
   "codemirror_mode": {
    "name": "ipython",
    "version": 3
   },
   "file_extension": ".py",
   "mimetype": "text/x-python",
   "name": "python",
   "nbconvert_exporter": "python",
   "pygments_lexer": "ipython3",
   "version": "3.11.6"
  }
 },
 "nbformat": 4,
 "nbformat_minor": 2
}
