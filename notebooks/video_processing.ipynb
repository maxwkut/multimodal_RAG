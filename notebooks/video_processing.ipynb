{
 "cells": [
  {
   "cell_type": "code",
   "execution_count": 21,
   "metadata": {},
   "outputs": [],
   "source": [
    "# import os\n",
    "# import glob\n",
    "# from tqdm import tqdm\n",
    "# from pytube import YouTube, Stream\n",
    "\n",
    "# def download_video(video_url, path='..data/videos'):\n",
    "#     print(f'Getting video information for {video_url}')\n",
    "    \n",
    "#     # Handle local file paths directly\n",
    "#     if not video_url.startswith('http'):\n",
    "#         return os.path.join(path, video_url)\n",
    "\n",
    "#     # Check if an MP4 file already exists in the path\n",
    "#     existing_files = glob.glob(os.path.join(path, '*.mp4'))\n",
    "#     if existing_files:\n",
    "#         return existing_files[0]\n",
    "\n",
    "#     # Ensure the download directory exists\n",
    "#     if not os.path.exists(path):\n",
    "#         os.makedirs(path)\n",
    "\n",
    "#     try:\n",
    "#         # Progress callback function\n",
    "#         def progress_callback(stream: Stream, data_chunk: bytes, bytes_remaining: int):\n",
    "#             pbar.update(len(data_chunk))\n",
    "\n",
    "#         # Initialize YouTube object with progress callback\n",
    "#         yt = YouTube(video_url, use_oauth=True, allow_oauth_cache=True, on_progress_callback=progress_callback)\n",
    "\n",
    "#         # Try getting the highest quality 720p MP4 stream\n",
    "#         stream = yt.streams.filter(progressive=True, file_extension='mp4', res='720p').first()\n",
    "#         if stream is None:\n",
    "#             stream = yt.streams.filter(progressive=True, file_extension='mp4').order_by('resolution').desc().first()\n",
    "        \n",
    "#         if stream is None:\n",
    "#             raise ValueError(\"No suitable video stream found.\")\n",
    "\n",
    "#         filepath = os.path.join(path, stream.default_filename)\n",
    "\n",
    "#         # Download only if the file doesn't already exist\n",
    "#         if not os.path.exists(filepath):\n",
    "#             print('Downloading video from YouTube...')\n",
    "#             pbar = tqdm(desc='Downloading video', total=stream.filesize, unit=\"B\", unit_scale=True)\n",
    "#             stream.download(path)\n",
    "#             pbar.close()\n",
    "        \n",
    "#         return filepath\n",
    "\n",
    "#     except Exception as e:\n",
    "#         print(f\"Error downloading video: {e}\")\n",
    "#         return None\n"
   ]
  },
  {
   "cell_type": "code",
   "execution_count": 4,
   "metadata": {},
   "outputs": [
    {
     "name": "stdout",
     "output_type": "stream",
     "text": [
      "[youtube] Extracting URL: https://www.youtube.com/watch?v=OKJbaoIy9vk\n",
      "[youtube] OKJbaoIy9vk: Downloading webpage\n",
      "[youtube] OKJbaoIy9vk: Downloading tv client config\n",
      "[youtube] OKJbaoIy9vk: Downloading player 9c6dfc4a\n",
      "[youtube] OKJbaoIy9vk: Downloading tv player API JSON\n",
      "[youtube] OKJbaoIy9vk: Downloading ios player API JSON\n",
      "[youtube] OKJbaoIy9vk: Downloading m3u8 information\n",
      "[info] OKJbaoIy9vk: Downloading 1 format(s): 617+140\n"
     ]
    },
    {
     "name": "stderr",
     "output_type": "stream",
     "text": [
      "ERROR: You have requested merging of multiple formats but ffmpeg is not installed. Aborting due to --abort-on-error\n"
     ]
    },
    {
     "name": "stdout",
     "output_type": "stream",
     "text": [
      "Error downloading video: ERROR: You have requested merging of multiple formats but ffmpeg is not installed. Aborting due to --abort-on-error\n"
     ]
    }
   ],
   "source": [
    "\n",
    "# first video's url\n",
    "vid1_url = \"https://www.youtube.com/watch?v=OKJbaoIy9vk\"\n",
    "\n",
    "# download Youtube video to ./shared_data/videos/video1\n",
    "vid1_dir = \"./data/videos\"\n",
    "vid1_filepath = download_video(vid1_url, vid1_dir)\n",
    "\n",
    "# download Youtube video's subtitle to ./shared_data/videos/video1\n",
    "# vid1_transcript_filepath = get_transcript_vtt(vid1_url, vid1_dir)"
   ]
  },
  {
   "cell_type": "code",
   "execution_count": 2,
   "metadata": {},
   "outputs": [
    {
     "ename": "",
     "evalue": "",
     "output_type": "error",
     "traceback": [
      "\u001b[1;31mThe kernel failed to start as the Python Environment '.venv (Python 3.11.6)' is no longer available. Consider selecting another kernel or refreshing the list of Python Environments."
     ]
    }
   ],
   "source": [
    "import yt_dlp\n",
    "\n",
    "def download_video(video_url, path='/tmp/'):\n",
    "    ydl_opts = {\n",
    "        'format': 'bestvideo[ext=mp4]+bestaudio[ext=m4a]/best[ext=mp4]',\n",
    "        'outtmpl': f\"{path}/%(title)s.%(ext)s\",\n",
    "    }\n",
    "    \n",
    "    try:\n",
    "        with yt_dlp.YoutubeDL(ydl_opts) as ydl:\n",
    "            ydl.download([video_url])\n",
    "        print(\"Download completed successfully!\")\n",
    "    except Exception as e:\n",
    "        print(f\"Error downloading video: {e}\")\n"
   ]
  },
  {
   "cell_type": "code",
   "execution_count": null,
   "metadata": {},
   "outputs": [],
   "source": [
    "down"
   ]
  }
 ],
 "metadata": {
  "kernelspec": {
   "display_name": ".venv",
   "language": "python",
   "name": "python3"
  },
  "language_info": {
   "codemirror_mode": {
    "name": "ipython",
    "version": 3
   },
   "file_extension": ".py",
   "mimetype": "text/x-python",
   "name": "python",
   "nbconvert_exporter": "python",
   "pygments_lexer": "ipython3",
   "version": "3.11.6"
  }
 },
 "nbformat": 4,
 "nbformat_minor": 2
}
